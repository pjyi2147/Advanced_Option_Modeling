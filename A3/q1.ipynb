{
 "cells": [
  {
   "attachments": {},
   "cell_type": "markdown",
   "metadata": {},
   "source": [
    "## CS 476 A3 Q1\n",
    "#### Jeongseop Yi (Patrick), j22yi"
   ]
  },
  {
   "attachments": {},
   "cell_type": "markdown",
   "metadata": {},
   "source": [
    "#### a)\n",
    "\n",
    "The Euler-Maruyama formula for computing $v_{n+1}$ at $t_{n+1}$ is as follows:\n",
    "$$\n",
    "\\begin{aligned}\n",
    "v(n+1) &= v(n) - \\lambda (v(n) - \\bar{v}) \\Delta t\\\\ &+ \\eta \\cdot \\sqrt{v(n)} \\cdot \\sqrt{\\Delta t} \\cdot \\phi_t\n",
    "\\end{aligned}\n",
    "$$\n",
    "\n",
    "Yes. $v_{n+1}$ can be negative when the normal sample $\\phi_t$ is less than $\\frac{-v(n) + \\lambda (v(n) - \\bar{v}) \\Delta t}{ \\eta \\cdot \\sqrt{v(n)} \\cdot \\sqrt{\\Delta t} }$."
   ]
  },
  {
   "attachments": {},
   "cell_type": "markdown",
   "metadata": {},
   "source": [
    "#### b)\n",
    "The Milstein method for computing $v_{n+1}$ as follows:\n",
    "\n",
    "$$ \n",
    "\\begin{aligned}\n",
    "v(n+1) &= v(n) - \\lambda (v(n) - \\bar{v}) \\Delta t + \\eta \\cdot \\sqrt{v(n)} \\cdot \\sqrt{\\Delta t} \\cdot \\phi_t \\\\ &+\\frac{1}{2} \\eta \\cdot \\sqrt{v(n)} \\cdot \\eta \\cdot \\frac{1}{2 \\cdot \\sqrt{v(n)}} \\cdot ((\\sqrt{\\Delta t} \\cdot \\phi_{t_n})^2 - \\Delta t) \\\\\n",
    "&= v(n) - \\lambda (v(n) - \\bar{v}) \\Delta t + \\eta \\cdot \\sqrt{v(n)} \\cdot \\sqrt{\\Delta t} \\cdot \\phi_t + \\frac{\\eta^2}{4} \\Delta t (\\phi^2_t - 1) \\\\\n",
    "&= \\frac{\\eta^2}{4} \\Delta t \\phi^2_t + \\eta \\sqrt{v(n)} \\cdot \\sqrt{\\Delta t} \\cdot \\phi_t + v(n) - \\lambda (v(n) - \\bar{v}) \\cdot \\Delta t - \\frac{\\eta^2}{4} \\Delta t\n",
    "\\end{aligned}\n",
    "$$"
   ]
  },
  {
   "attachments": {},
   "cell_type": "markdown",
   "metadata": {},
   "source": [
    "Assume $v_n = 0$, then we have:\n",
    "$$ \n",
    "\\begin{aligned}\n",
    "v(n+1) \n",
    "&= \\frac{\\eta^2}{4} \\Delta t \\phi^2_t + \\lambda \\bar{v} \\Delta t - \\frac{\\eta^2}{4} \\Delta t\n",
    "\\end{aligned}\n",
    "$$"
   ]
  },
  {
   "attachments": {},
   "cell_type": "markdown",
   "metadata": {},
   "source": [
    "We want $v(n+1) > 0$ for any $\\phi_t$. \n",
    "$$\n",
    "v(n+1) > 0 \\\\\n",
    "\\frac{\\eta^2}{4} \\Delta t \\phi^2_t + \\lambda \\bar{v} \\Delta t - \\frac{\\eta^2}{4} \\Delta t > 0 \\\\\n",
    "\\Delta t (\\frac{\\eta^2}{4} \\phi^2_t + \\lambda \\bar{v} - \\frac{\\eta^2}{4}) > 0 \\\\\n",
    "$$\n",
    "$$\n",
    "\\frac{\\eta^2}{4} \\phi^2_t + \\lambda \\bar{v} - \\frac{\\eta^2}{4} > 0 \\tag{$ \\because \\Delta t > 0$}\n",
    "$$\n",
    "$$\n",
    "\\lambda \\bar{v} - \\frac{\\eta^2}{4} > 0 \\tag{$ \\because \\eta^2 > 0, \\phi^2_t >= 0$}\n",
    "$$\n",
    "$$\n",
    "\\lambda \\bar{v} > \\frac{\\eta^2}{4}\n",
    "$$\n",
    "\n",
    "Therefore, if we have $\\lambda \\bar{v} > \\frac{\\eta^2}{4}$, then $v_{n+1} > 0$ is guaranteed."
   ]
  }
 ],
 "metadata": {
  "language_info": {
   "name": "python"
  },
  "orig_nbformat": 4
 },
 "nbformat": 4,
 "nbformat_minor": 2
}
