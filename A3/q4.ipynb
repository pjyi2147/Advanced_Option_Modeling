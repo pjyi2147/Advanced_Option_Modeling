{
 "cells": [
  {
   "attachments": {},
   "cell_type": "markdown",
   "metadata": {},
   "source": [
    "## CS 476 A3 Q4\n",
    "#### Jeongseop Yi (Patrick), j22yi"
   ]
  },
  {
   "attachments": {},
   "cell_type": "markdown",
   "metadata": {},
   "source": [
    "#### a)\n",
    "\n",
    "The value of $B_0 = -\\delta_0 S_0 + C_0$. As $\\delta_t = 0$ when $S_t < K$ and $S_0 < K$, so we have $B_0 = C_0$\n",
    "\n",
    "The writer's trading stratgy is:\n",
    "$$\n",
    "\\delta_t = \n",
    "\\begin{cases}\n",
    "    0,  & \\text{if } S_t < K\\\\\n",
    "    1,  & \\text{otherwise}\n",
    "\\end{cases}\n",
    "$$"
   ]
  },
  {
   "attachments": {},
   "cell_type": "markdown",
   "metadata": {},
   "source": [
    "#### b)\n",
    "\n",
    "From the continous trading assumption, the stock is bought or sold at the price $K$ when the price reaches above or drops below K, respectively. As the stock is traded at one price, $B_t$ is always either $C_0 - K$ when $S_t \\geq K$ or $C_0$ when $S_t < K$ as $B_0 = C_0$.\n",
    "\n",
    "With the information above, if $S_t \\geq K$, we have $\\delta_t = 1$, so the portfolio value is $\\delta_t S_t + B_0 = S_t - K + C_0$, and if $S_t < K $, $\\delta_t = 0$, so the portfolio value is $\\delta_t S_t + B_0 = C_0$"
   ]
  },
  {
   "attachments": {},
   "cell_type": "markdown",
   "metadata": {},
   "source": [
    "#### c)\n",
    "There exist two cases: 1. $S_T \\geq K$ and 2. $S_T < K$.\n",
    "\n",
    "If $S_T \\geq K$:\n",
    "\n",
    "$$ \n",
    "\\begin{align*}\n",
    "-C_T + \\delta_T S_T + B_T &= K - S_T + S_T - K + C_0 \\\\\n",
    "&= C_0\n",
    "\\end{align*}\n",
    "$$\n",
    "\n",
    "If $S_T < K$:\n",
    "\n",
    "$$ \n",
    "\\begin{align*}\n",
    "-C_T + \\delta_T S_T + B_T &= 0 + 0 + C_0 \\\\\n",
    "&= C_0\n",
    "\\end{align*}\n",
    "$$\n",
    "\n",
    "In both cases, the value of P&L are the same, which equals to C_0.\n",
    "Therefore, the value of relative P&L is 1, and also the mean of the relative P&L is 1.\n",
    "As the relative P&L value does not change for any $S_T$, the variance of the relative P&L is 0."
   ]
  },
  {
   "attachments": {},
   "cell_type": "markdown",
   "metadata": {},
   "source": [
    "#### d)"
   ]
  },
  {
   "cell_type": "code",
   "execution_count": 26,
   "metadata": {},
   "outputs": [],
   "source": [
    "import numpy as np\n",
    "import scipy.stats as stats\n",
    "import seaborn as sns\n",
    "import matplotlib.pyplot as plt\n",
    "import pandas as pd"
   ]
  },
  {
   "cell_type": "code",
   "execution_count": 27,
   "metadata": {},
   "outputs": [],
   "source": [
    "def blsprice2(S0, K, r, T, sigma):\n",
    "    ''' Valuation of European option in BSM model Analytical formula.\n",
    "    '''\n",
    "    d1 = (np.log(S0 / K) + (r + 0.5 * sigma ** 2) * T) / (sigma * np.sqrt(T))\n",
    "    d2 = (np.log(S0 / K) + (r - 0.5 * sigma ** 2) * T) / (sigma * np.sqrt(T))\n",
    "    # if optionType == 'call':\n",
    "    C_value = (S0 * stats.norm.cdf(d1, 0.0, 1.0) -\n",
    "               K * np.exp(-r * T) * stats.norm.cdf(d2, 0.0, 1.0))\n",
    "    # elif optionType == 'put':\n",
    "    P_value = (K * np.exp(-r * T) * stats.norm.cdf(-d2, 0.0, 1.0)\n",
    "               - S0 * stats.norm.cdf(-d1, 0.0, 1.0))\n",
    "    return (C_value, P_value)\n",
    "\n",
    "# define functions for Monte Carlo simulation\n",
    "def MC_simulation(S0, mu, sigma, T, M, N):\n",
    "    Dt = T / N\n",
    "    S = np.zeros((N+1, M))\n",
    "    S[0, :] = S0\n",
    "    for i in range(1, N + 1):\n",
    "        S[i, :] = S[i-1, :] * \\\n",
    "                  np.exp((mu - sigma ** 2 / 2)\n",
    "                         * Dt + sigma*np.sqrt(Dt)*np.random.normal(0, 1, M))\n",
    "    return S\n",
    "\n",
    "# hedging strategy\n",
    "def hedging_delta(S, K):\n",
    "    if (S > K):\n",
    "        return 1\n",
    "    else:\n",
    "        return 0\n",
    "\n",
    "def call_payoff(S, K):\n",
    "    return np.max(S - K, 0)\n",
    "\n",
    "def MC_VAR(S0, mu, sigma, T, M, C0, K, N):\n",
    "    S = MC_simulation(S0, mu, sigma, T, M, N)\n",
    "    VN = list(map(lambda x: call_payoff(x, K), S[N]))\n",
    "    B = C0 * np.ones(M)\n",
    "\n",
    "    for n in range(1, N):\n",
    "        Sn = S[n-1]\n",
    "        Sn1 = S[n]\n",
    "        dn = np.array(list(map(lambda x: hedging_delta(x, K), Sn)))\n",
    "        dn1 = np.array(list(map(lambda x: hedging_delta(x, K), Sn1)))\n",
    "        B = B + (dn - dn1) * Sn1\n",
    "\n",
    "    PNL = B + S[N]*list(map(lambda x: hedging_delta(x, K), S[N-1])) - VN\n",
    "    return PNL / C0\n",
    "\n",
    "def dVarCVar(PNL, beta):\n",
    "    PNL = np.sort(PNL)\n",
    "    N = len(PNL)\n",
    "    dVar = PNL[int((1-beta)*N)]\n",
    "    cVar = np.mean(PNL[PNL < dVar])\n",
    "    return (dVar, cVar)\n"
   ]
  },
  {
   "attachments": {},
   "cell_type": "markdown",
   "metadata": {},
   "source": [
    "The function `hedging_strat` is to denote the change of the hedging position given the stock price, current position, and strike price.\n",
    "The function `hedging_cost` is to calculate the cost of hedging in between the timesteps. The value of the portfolio changes only when the writer held the stock at $t_{k}$ regardless of whether the writer sold stock or not at $t_{k+1}$.\n",
    "\n",
    "The stock prices are calculated using `MC_simulation` function and the position and value of the hedging portfolio is calculated in `MC_VAR` function.\n",
    "`MC_VAR` function returns the final value of the hedging portfolios divided by the call option value.\n",
    "`blsprice2` function is needed to calculate the actual call option value from BS model."
   ]
  },
  {
   "cell_type": "code",
   "execution_count": 28,
   "metadata": {},
   "outputs": [],
   "source": [
    "# table 1 value\n",
    "sigma = .20\n",
    "mu = 0.15\n",
    "T = 1 \n",
    "S0 = 95\n",
    "K = 105\n",
    "C0 = blsprice2(S0, K, 0, sigma, T)[0]\n",
    "\n",
    "# Run Monte Carlo simulation with 100, 200, 400, and 800 steps\n",
    "MC_100 = MC_VAR(S0, mu, sigma, T, 80000, C0, K, 100)\n",
    "MC_200 = MC_VAR(S0, mu, sigma, T, 80000, C0, K, 200)\n",
    "MC_400 = MC_VAR(S0, mu, sigma, T, 80000, C0, K, 400)\n",
    "MC_800 = MC_VAR(S0, mu, sigma, T, 80000, C0, K, 800)\n",
    "\n",
    "# create dataframe for nice table output for simulation results\n",
    "MC_df = pd.DataFrame(columns=['100', '200', '400', '800'])\n",
    "MC_df.loc['mean'] = [np.mean(MC_100), np.mean(MC_200), np.mean(MC_400), np.mean(MC_800)]\n",
    "MC_df.loc['std'] = [np.std(MC_100), np.std(MC_200), np.std(MC_400), np.std(MC_800)]\n",
    "MC_df.loc['VaR'] = [dVarCVar(MC_100, 0.95)[0], dVarCVar(MC_200, 0.95)[0], \n",
    "                    dVarCVar(MC_400, 0.95)[0], dVarCVar(MC_800, 0.95)[0]]\n",
    "MC_df.loc['CVaR'] = [dVarCVar(MC_100, 0.95)[1], dVarCVar(MC_200, 0.95)[1], \n",
    "                     dVarCVar(MC_400, 0.95)[1], dVarCVar(MC_800, 0.95)[1]]\n"
   ]
  },
  {
   "cell_type": "code",
   "execution_count": 29,
   "metadata": {},
   "outputs": [
    {
     "data": {
      "text/html": [
       "<div>\n",
       "<style scoped>\n",
       "    .dataframe tbody tr th:only-of-type {\n",
       "        vertical-align: middle;\n",
       "    }\n",
       "\n",
       "    .dataframe tbody tr th {\n",
       "        vertical-align: top;\n",
       "    }\n",
       "\n",
       "    .dataframe thead th {\n",
       "        text-align: right;\n",
       "    }\n",
       "</style>\n",
       "<table border=\"1\" class=\"dataframe\">\n",
       "  <thead>\n",
       "    <tr style=\"text-align: right;\">\n",
       "      <th></th>\n",
       "      <th>100</th>\n",
       "      <th>200</th>\n",
       "      <th>400</th>\n",
       "      <th>800</th>\n",
       "    </tr>\n",
       "  </thead>\n",
       "  <tbody>\n",
       "    <tr>\n",
       "      <th>mean</th>\n",
       "      <td>1.069377</td>\n",
       "      <td>1.071660</td>\n",
       "      <td>1.077684</td>\n",
       "      <td>1.080710</td>\n",
       "    </tr>\n",
       "    <tr>\n",
       "      <th>std</th>\n",
       "      <td>0.954516</td>\n",
       "      <td>0.957075</td>\n",
       "      <td>0.956751</td>\n",
       "      <td>0.956423</td>\n",
       "    </tr>\n",
       "    <tr>\n",
       "      <th>VaR</th>\n",
       "      <td>-0.147950</td>\n",
       "      <td>-0.145482</td>\n",
       "      <td>-0.142228</td>\n",
       "      <td>-0.134837</td>\n",
       "    </tr>\n",
       "    <tr>\n",
       "      <th>CVaR</th>\n",
       "      <td>-0.445064</td>\n",
       "      <td>-0.446738</td>\n",
       "      <td>-0.438721</td>\n",
       "      <td>-0.434447</td>\n",
       "    </tr>\n",
       "  </tbody>\n",
       "</table>\n",
       "</div>"
      ],
      "text/plain": [
       "           100       200       400       800\n",
       "mean  1.069377  1.071660  1.077684  1.080710\n",
       "std   0.954516  0.957075  0.956751  0.956423\n",
       "VaR  -0.147950 -0.145482 -0.142228 -0.134837\n",
       "CVaR -0.445064 -0.446738 -0.438721 -0.434447"
      ]
     },
     "metadata": {},
     "output_type": "display_data"
    },
    {
     "data": {
      "image/png": "[encoded data removed]",
      "text/plain": [
       "<Figure size 640x480 with 2 Axes>"
      ]
     },
     "metadata": {},
     "output_type": "display_data"
    }
   ],
   "source": [
    "# show table of simulation results\n",
    "display(MC_df)\n",
    "\n",
    "# plot histogram of P&L for 800 steps\n",
    "ax = sns.histplot(MC_800, bins=50, legend=False)\n",
    "sns.kdeplot(data=MC_800, ax=ax.twinx(), legend=True)\n",
    "plt.title('Histogram of PNL with probability density function')\n",
    "plt.xlabel('Relative P&L from MC simulation with 800 steps')\n",
    "plt.show()"
   ]
  },
  {
   "attachments": {},
   "cell_type": "markdown",
   "metadata": {},
   "source": [
    "The mean of the hedging error is fairly lose to 1 for all MC simulations which is close to the mean of the relative P&L discussed in c). \n",
    "The small minor error may derive from the time discretization error, which will be discussed in e).\n",
    "\n",
    "However, the volatility is not 0 for all MC simulations different from the theoretical volatility from c). This error also may derive from the time discretization error, which is discussed in e)."
   ]
  },
  {
   "attachments": {},
   "cell_type": "markdown",
   "metadata": {},
   "source": [
    "#### e)"
   ]
  },
  {
   "attachments": {},
   "cell_type": "markdown",
   "metadata": {},
   "source": [
    "The discrepancy in the variance between the MC simulation and the theoretical value under the continuous hedging assumption is due to the time discretization error. In MC simulations, time is discretized, and the portfolio cannot be rebalanced right away when the stock price hits the strike price $K$ but rebalanced at the stock price at each timestep. However, in the continous trading assumption, the portfolio can be rebalanced right away when the stock price hits the strike price $K$, leading to 0 variance."
   ]
  }
 ],
 "metadata": {
  "kernelspec": {
   "display_name": "Python 3",
   "language": "python",
   "name": "python3"
  },
  "language_info": {
   "codemirror_mode": {
    "name": "ipython",
    "version": 3
   },
   "file_extension": ".py",
   "mimetype": "text/x-python",
   "name": "python",
   "nbconvert_exporter": "python",
   "pygments_lexer": "ipython3",
   "version": "3.10.9"
  },
  "orig_nbformat": 4
 },
 "nbformat": 4,
 "nbformat_minor": 2
}
