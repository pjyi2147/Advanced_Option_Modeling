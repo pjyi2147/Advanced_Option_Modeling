{
 "cells": [
  {
   "attachments": {},
   "cell_type": "markdown",
   "metadata": {},
   "source": [
    "## CS 476 A3 Q2\n",
    "#### Jeongseop Yi (Patrick), j22yi"
   ]
  },
  {
   "attachments": {},
   "cell_type": "markdown",
   "metadata": {},
   "source": [
    "#### a)\n",
    "The covariance matrix is as follows for $\\phi = [\\phi^{(0)}, \\phi^{(1)}, \\phi^{(2)}]$:\n",
    "\n",
    "$$\n",
    "\\begin{array}{ |c|c|c|c| } \n",
    "\\hline\n",
    "& \\phi^{(0)} & \\phi^{(1)} & \\phi^{(2)} \\\\\n",
    "\\hline\n",
    "\\phi^{(0)} & 1 & \\rho & 0 \\\\ \n",
    "\\hline\n",
    "\\phi^{(1)} & \\rho & 1 & 0 \\\\ \n",
    "\\hline\n",
    "\\phi^{(2)} & 0 & 0 & 1 \\\\ \n",
    "\\hline\n",
    "\\end{array}\n",
    "$$ \n",
    "\n",
    "$$ \n",
    "\\begin{aligned}\n",
    "E(dZ_t^{(0)}dZ_t^{(1)}) &= E(\\phi^{(0)}\\sqrt{dt}\\phi^{(1)}\\sqrt{dt}) \\\\\n",
    "&= E(\\phi^{(0)}\\phi^{(1)}{dt}) \\\\\n",
    "&= \\rho dt \\\\\n",
    "\\implies E(\\phi^{(0)}\\phi^{(1)}{dt}) &= E(\\phi^{(0)}\\phi^{(1)}) {dt} = \\rho dt \\\\\n",
    "\\implies E(\\phi^{(0)}\\phi^{(1)}) &= \\rho\n",
    "\\end{aligned}\n",
    "$$"
   ]
  },
  {
   "attachments": {},
   "cell_type": "markdown",
   "metadata": {},
   "source": [
    "#### b)\n",
    "\n",
    "Using Euler's formula, the values can be calculated as follows:\n",
    "\n",
    "$$\n",
    "S(t_{n+1}) = S(t_n) + r(t_n) S(t_n) \\Delta t + \\sigma(t_n) S(t_n) \\Delta Z_t^{(0)}\\\\\n",
    "\\sigma(t_{n+1}) = \\sigma(t_n) + k_1(\\bar{\\sigma} - \\sigma(t_n)) \\Delta t + \\eta_1\\sqrt{\\sigma(t_n)} \\Delta Z_t^{(1)}\\\\\n",
    "r(t_{n+1}) = r(t_n) + k_2(\\bar{r} - r(t_n))\\Delta t + \\eta_2\\sqrt{r(t_n\n",
    ")}\\Delta Z_t^{(2)}\\\\\n",
    "\n",
    "$$"
   ]
  },
  {
   "attachments": {},
   "cell_type": "markdown",
   "metadata": {},
   "source": [
    "#### c)\n",
    "The pseudo code is as follows:\n",
    "\n",
    "```\n",
    "Value(sigma, r, mu, T, S0, K1, K3, N):\n",
    "    cov_mat = Covariance matrix for phi1,phi2,phi3\n",
    "    GT = chol(cov_mat).transpose()\n",
    "    Dt = T/N\n",
    "    S = (M, 1) matrix set to S0\n",
    "    Sigma = (M, 1) matrix set to sigma\n",
    "    R = (M, 1) matrix set to r\n",
    "    R_store = (M, n) matrix set to 0 // for integration later\n",
    "    for i in range(1, N):\n",
    "        R_store[, i] = R;   // save ith rate\n",
    "        e = (n, m) matrix with each row created from norm(m, 1);\n",
    "        phi = GT * e; // phi[i] is phi_i\n",
    "        S = S + R * S * Dt + Sigma * S * sqrt(Dt) * phi[0].transpose();\n",
    "        Sigma = Sigma + k1 * (sigma_bar - Sigma) * Dt + eta_1 * sqrt(Sigma) * sqrt(Dt) * phi[1].transpose();\n",
    "        R = R + k2 * (r_bar - R) * Dt + eta_2 * sqrt(R) * sqrt(Dt) * phi[2].transpose();\n",
    "    V = mean(e^-row_sum(R_store * Dt) * P(S));\n",
    "    return V\n",
    "```\n",
    "\n",
    "The algorithm explanation is as follows:\n",
    "\n",
    "1. Create covariance matrix of $\\phi$ and find Cholesky matrix of the covariance matrix.\n",
    "2. Create (m, 1) matrix for stock price, sigma, and rate.\n",
    "3. Create (m, n) matrix for integration later.\n",
    "4. For i = 1 to n, do the following:\n",
    "\n",
    "    1. Save previous rate vector to save_rate matrix\n",
    "    2. Create $\\phi$ from cholesky matrix by multiplying (n x m) normal random matrix.\n",
    "    3. Calculate price, sigma, R using the values and euler's method\n",
    "\n",
    "5. Calculate the value of the option by making the mean of the multiplication of the sum of the each row (integration) for the save return matrix and payoff for each stock price. \n",
    "6. Return the calculated option value!"
   ]
  }
 ],
 "metadata": {
  "language_info": {
   "name": "python"
  },
  "orig_nbformat": 4
 },
 "nbformat": 4,
 "nbformat_minor": 2
}
