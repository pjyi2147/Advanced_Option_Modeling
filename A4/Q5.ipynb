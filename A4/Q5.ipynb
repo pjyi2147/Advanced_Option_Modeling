{
 "cells": [
  {
   "attachments": {},
   "cell_type": "markdown",
   "metadata": {},
   "source": [
    "## CS 476 Assignment 4\n",
    "#### Jeongseop Yi (Patrick), j22yi\n",
    "#### Q5"
   ]
  },
  {
   "attachments": {},
   "cell_type": "markdown",
   "metadata": {},
   "source": [
    "#### a)\n",
    "We have:\n",
    "$$\n",
    "\\begin{align*}\n",
    "f(\\alpha) = \\text{E}(max(L-\\alpha, 0))\n",
    "\\end{align*}\n",
    "$$\n"
   ]
  },
  {
   "attachments": {},
   "cell_type": "markdown",
   "metadata": {},
   "source": [
    "Calculate the expected value using the probability density function $p(l)$.\n",
    "Then we have:\n",
    "$$\n",
    "\\begin{align*}\n",
    "f(\\alpha) &= \\int^{\\infty}_{\\alpha} p(L) \\cdot (L - \\alpha) dL + \\int^{\\alpha}_{-\\infty} p(L) \\cdot 0 dL \\\\\n",
    "&= \\int^{\\infty}_{\\alpha} p(L) \\cdot (L - \\alpha) dL\n",
    "\\end{align*}\n",
    "$$"
   ]
  },
  {
   "attachments": {},
   "cell_type": "markdown",
   "metadata": {},
   "source": [
    "Take derivative on $f(\\alpha)$. Then we have the following as $\\alpha$ and $p(L) \\cdot (L - \\alpha)$ continuously differentiable and using the hint where $a(x) = x$ and $g(x,y) = \\int^{\\infty}_{\\alpha} p(x) \\cdot (x - y) dx$.\n",
    "$$\n",
    "\\begin{align*}\n",
    "\\frac{d}{d\\alpha} f(\\alpha) &= \\frac{d}{d\\alpha}( \\int^{\\infty}_{\\alpha} p(L) \\cdot (L - \\alpha) dL) \\\\\n",
    "&= -p(\\alpha) \\cdot (\\alpha - \\alpha) \\cdot \\frac{d}{d\\alpha} \\alpha + \\int^{\\infty}_{\\alpha} \\frac{\\partial}{\\partial \\alpha} (p(L) \\cdot (L - \\alpha)) dL \\\\\n",
    "&= 0 + \\int^{\\infty}_{\\alpha} -p(L) dL \\\\\n",
    "&= -\\int^{\\infty}_{\\alpha} p(L) dL \\\\\n",
    "&= -\\int^{\\infty}_{\\alpha} p(l) dl \\\\\n",
    "\\end{align*}\n",
    "$$\n",
    "\n",
    "Therefore, $f(\\alpha)$ is continuously differentiable, and $f'(\\alpha) = -\\int^{\\infty}_{\\alpha} p(l) dl$."
   ]
  },
  {
   "attachments": {},
   "cell_type": "markdown",
   "metadata": {},
   "source": [
    "#### b)"
   ]
  },
  {
   "attachments": {},
   "cell_type": "markdown",
   "metadata": {},
   "source": [
    "From above, we have $f'(\\alpha) = - \\int^{\\infty}_{\\alpha} p(l)dl$\n",
    "\n",
    "As $p(l)$ is a probability distribution function, we have $\\int^{\\infty}_{-\\infty} p(l)dl = 1$.\n",
    "As $\\alpha$ increases, then $\\int^{\\infty}_{\\alpha} p(l)dl$ must decreases.\n",
    "As there exist a negative sign on $f'(\\alpha)$ to $\\int^{\\infty}_{\\alpha} p(l)dl$, $f'(\\alpha)$ is increasing function thus $f''(\\alpha)$ is a positive function for all $\\alpha$.\n",
    "\n",
    "As $f''(\\alpha)$ is positive for all $\\alpha$, the function $f(\\alpha)$ is convex."
   ]
  },
  {
   "attachments": {},
   "cell_type": "markdown",
   "metadata": {},
   "source": [
    "#### c)"
   ]
  },
  {
   "attachments": {},
   "cell_type": "markdown",
   "metadata": {},
   "source": [
    "Let the equation inside the optimization problem be $g(\\alpha)$. The equation equals the following:\n",
    "$$\n",
    "g(\\alpha) = \\alpha + \\frac{1}{1 - \\beta} \\text{E}(\\max(L-\\alpha, 0)) = \\alpha + \\frac{1}{1 - \\beta} f(\\alpha)\n",
    "$$\n",
    "\n"
   ]
  },
  {
   "attachments": {},
   "cell_type": "markdown",
   "metadata": {},
   "source": [
    "Differentiating the equation gives us the following:\n",
    "$$\n",
    "g'(\\alpha) = \\frac{d}{d\\alpha}(\\alpha + \\frac{1}{1 - \\beta} f(\\alpha)) = 1 - \\frac{1}{1 - \\beta} \\int^{\\infty}_{\\alpha} p(l)dl \n",
    "$$"
   ]
  },
  {
   "attachments": {},
   "cell_type": "markdown",
   "metadata": {},
   "source": [
    "From b), we already know that $-\\int^{\\infty}_{\\alpha} p(l)dl$ is an increasing function and 1 is constant, therefore $g'(\\alpha)$ is also increasing. Therefore, the optimization problem is also convex. \n",
    "\n",
    "To find the minimum value of the optimization problem, it suffices to find the solution of $g'(\\alpha) = 0$."
   ]
  },
  {
   "attachments": {},
   "cell_type": "markdown",
   "metadata": {},
   "source": [
    "$$\n",
    "\\begin{align*}\n",
    "g'(\\alpha) &= 0 \\\\\n",
    "1 - \\frac{1}{1 - \\beta} \\int^{\\infty}_{\\alpha} p(l)dl &= 0 \\\\\n",
    "\\int^{\\infty}_{\\alpha} p(l)dl &= 1 - \\beta\n",
    "\\end{align*}\n",
    "\n",
    "$$"
   ]
  },
  {
   "attachments": {},
   "cell_type": "markdown",
   "metadata": {},
   "source": [
    "As we are working with the loss $L$ with a probability distribution with density function $p(L)$, by the definition of VaR, $\\alpha^*$, the solution of the optimization problem, is the VaR with confidence $\\beta$."
   ]
  }
 ],
 "metadata": {
  "kernelspec": {
   "display_name": "Python 3",
   "language": "python",
   "name": "python3"
  },
  "language_info": {
   "name": "python",
   "version": "3.10.10"
  },
  "orig_nbformat": 4
 },
 "nbformat": 4,
 "nbformat_minor": 2
}
