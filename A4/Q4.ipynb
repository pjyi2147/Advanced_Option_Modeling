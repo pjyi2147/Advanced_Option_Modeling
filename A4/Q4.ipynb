{
 "cells": [
  {
   "attachments": {},
   "cell_type": "markdown",
   "metadata": {},
   "source": [
    "## CS 476 Assignment 4\n",
    "#### Jeongseop Yi (Patrick), j22yi\n",
    "#### Q4"
   ]
  },
  {
   "attachments": {},
   "cell_type": "markdown",
   "metadata": {},
   "source": [
    "#### a)"
   ]
  },
  {
   "attachments": {},
   "cell_type": "markdown",
   "metadata": {},
   "source": [
    "The vector $x = (x_1, x_2)$ denote units of the underlying and the bond to hold. As we are running Monte Carlo simulations with M simulations, there are total of M stock prices at time $T$ from each simulations. \n",
    "\n",
    "We would like to know the optimal hedging portfolio $x^*$. The portfolio is constructed using the underlying and the bond with weights of $x_1, x_2$ at time $T$. For each simulation i, the portfolio $\\Pi_i = S^T_i \\cdot x_1 + e^{rT} \\cdot x_2$. The bond price is compounded continuously at rate $r$ until time $T$.\n",
    "\n",
    "Therefore, the matrix $A$ can be constructed as $A_i = \\begin{bmatrix} S^T_i & e^{rT}\\end{bmatrix}$ where $i = 1...M$\n",
    "\n",
    "The matrix $b$ corresponds to the payoff in the expected quadratic error $\\text{E}((\\Pi_T - \\text{payoff})^2)$. Therefore $b_i = \\begin{bmatrix} \\text{ButterflyPayoff}(S^T_i) \\end{bmatrix}$ where $i = 1,2,...,M$ which denotes payoff at time $T$ for each $M$ simulation."
   ]
  },
  {
   "attachments": {},
   "cell_type": "markdown",
   "metadata": {},
   "source": [
    "$$\n",
    "A = \n",
    "\\begin{bmatrix}\n",
    "S^T_1 & e^{rT} \\\\\n",
    "S^T_2 & e^{rT} \\\\\n",
    "S^T_3 & e^{rT} \\\\\n",
    "\\vdots & \\vdots \\\\\n",
    "S^T_M & e^{rT} \\\\\n",
    "\\end{bmatrix}\n",
    "\n",
    "b =\n",
    "\\begin{bmatrix}\n",
    "\\text{ButterflyPayoff}(S^T_1) \\\\\n",
    "\\text{ButterflyPayoff}(S^T_2) \\\\\n",
    "\\text{ButterflyPayoff}(S^T_3) \\\\\n",
    "\\vdots \\\\\n",
    "\\text{ButterflyPayoff}(S^T_M) \\\\\n",
    "\\end{bmatrix}\n",
    "$$"
   ]
  },
  {
   "attachments": {},
   "cell_type": "markdown",
   "metadata": {},
   "source": [
    "The butterfly payoff function is given in Q1."
   ]
  },
  {
   "attachments": {},
   "cell_type": "markdown",
   "metadata": {},
   "source": [
    "#### b)"
   ]
  },
  {
   "attachments": {},
   "cell_type": "markdown",
   "metadata": {},
   "source": [
    "The pseudocode to calculate $A$, $b$, $c$ is as follows:"
   ]
  },
  {
   "attachments": {},
   "cell_type": "markdown",
   "metadata": {},
   "source": [
    "```python\n",
    "def Q4B(S0, M, N, T, r, ...):\n",
    "    A: M x 2 matrix, b: M x 1 matrix, S: M x N matrix, c: 2 x 1 Matrix\n",
    "    # MC_simulation returns M x N matrix for all M simulations for N timesteps\n",
    "    S = MC_simulation(S0, M, N, T, r, ...)\n",
    "    # First column of A is the stock prices at time T\n",
    "    # Second column of A is the bond prices at time T\n",
    "    A[:, 0] = S[-1], A[:, 1] = e^(r*T)\n",
    "    # b is the vector of butterfly payoffs for stock prices at time T\n",
    "    b = ButterflyPayoff(A[0])\n",
    "    # c is just (S0, 1)\n",
    "    c = (S0, 1)\n",
    "\n",
    "    return A, b, c\n",
    "```"
   ]
  },
  {
   "attachments": {},
   "cell_type": "markdown",
   "metadata": {},
   "source": [
    "#### c)"
   ]
  },
  {
   "attachments": {},
   "cell_type": "markdown",
   "metadata": {},
   "source": [
    "The Lagranigan of the optimization problem is as follows: \n",
    "\n",
    "$$\n",
    "\\begin{align*}\n",
    "L(x, v) &= \\frac{1}{M} || Ax - b ||^2_2 + v^T (c^Tx - V^B_0)\n",
    "\\end{align*}\n",
    "$$"
   ]
  },
  {
   "attachments": {},
   "cell_type": "markdown",
   "metadata": {},
   "source": [
    "As $x^*$ and $v^*$ are the optimal solution of the optimization problem and the Lagrangian multiplier associated with the problem, both $x^*$ and $v^*$ must satisfy KKT.\n",
    "\n",
    "We will look at the gradient requirement of KKT to find the values of $x^*$ and $v^*$.\n",
    "\n",
    "By KKT, the following holds for the Lagrangian at $(x^*, v^*)$:\n",
    "\n",
    "$$ \n",
    "\\triangledown_x L(x^*, v^*) = 0\n",
    "$$\n",
    "\n",
    "$$\n",
    "\\triangledown_x L(x^*, v^*) = \\frac{2}{M}(Ax^* - b)^TA + (v^*)^T(c^T) = 0 \\\\\n",
    "2(Ax^* - b)^TA + M(v^*)^T(c^T) = 0 \\\\\n",
    "(Ax^* - b)^TA  = \\frac{-M}{2}(v^*)^T(c^T) \\\\\n",
    "(x^*)^TA^TA - b^TA  = \\frac{-M}{2}(v^*)^T(c^T) \\\\\n",
    "(x^*)^TA^TA = \\frac{-M}{2}(v^*)^T(c^T) + b^TA \\\\\n",
    "(x^*)^T = (\\frac{-M}{2}(v^*)^T(c^T) + b^TA)(A^TA)^{-1} \\\\\n",
    "x^* = ((\\frac{-M}{2}(v^*)^T(c^T) + b^TA)(A^TA)^{-1})^T\n",
    "$$"
   ]
  },
  {
   "attachments": {},
   "cell_type": "markdown",
   "metadata": {},
   "source": [
    "Is $A^TA$ invertible? Yes!\n",
    "\n",
    "$$\n",
    "A^TA = \n",
    "\\begin{bmatrix}\n",
    "\\Sigma (S^T_i)^2 & e^{rT} \\Sigma S^T_i \\\\\n",
    "e^{rT} \\Sigma S^T_i & M e^{2rT}\n",
    "\\end{bmatrix}\n",
    "$$\n",
    "where $i = 1...M$. \n",
    "\n",
    "Then determinant of the matrix is:\n",
    "$$\n",
    "det(A^TA) = M e^{2rT} \\Sigma (S^T_i)^2 - e^{2rT} (\\Sigma S^T_i)^2 = (M - 1) e^{2rT} \\Sigma (S^T_i)^2 + ...\\neq 0\n",
    "$$\n",
    "where $i, j = 1...M$ and $i \\neq j$, as all stock prices at time T from M simulations cannot be all 0 at the same time. "
   ]
  },
  {
   "attachments": {},
   "cell_type": "markdown",
   "metadata": {},
   "source": [
    "Find $v^*$ in terms of $V^B_0$ by plugging in above $x^*$ to the constraint requirement $c^Tx^* - V^B_0 = 0$\n",
    "\n",
    "Once $v^*$ is found, the value of $x^*$ can be also calculated using $x^* = ((\\frac{-M}{2}(v^*)^T(c^T) + b^TA)(A^TA)^{-1})^T$."
   ]
  }
 ],
 "metadata": {
  "language_info": {
   "name": "python"
  },
  "orig_nbformat": 4
 },
 "nbformat": 4,
 "nbformat_minor": 2
}
