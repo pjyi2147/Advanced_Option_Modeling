{
 "cells": [
  {
   "cell_type": "code",
   "execution_count": null,
   "metadata": {},
   "outputs": [],
   "source": [
    "import numpy as np"
   ]
  },
  {
   "cell_type": "code",
   "execution_count": null,
   "metadata": {},
   "outputs": [],
   "source": [
    "# create a binomial lattice with dividends \n",
    "def binomial_lattice_div(n, sigma, r, T, S0, K, D0, p, div, payoff_func, div_payoff_func):\n",
    "    # sort the div array in descending order\n",
    "    div = np.sort(div)\n",
    "    div = np.ceil(div * n).astype(int)\n",
    "    div = div[::-1]\n",
    "\n",
    "    # create the arrays for the stock and option values\n",
    "    stock_array = np.zeros((n+1))\n",
    "    new_stock_array = np.zeros((n+1))\n",
    "    option_array = np.zeros((n+1))\n",
    "    new_option_array = np.zeros((n+1))\n",
    "\n",
    "    # u and d\n",
    "    u = np.exp(sigma*np.sqrt(T/n) + (r - 0.5*(sigma**2))*T/n)\n",
    "    d = np.exp(-sigma*np.sqrt(T/n) + (r - 0.5*(sigma**2))*T/n)\n",
    "    q = 1/2\n",
    "\n",
    "    # Time N\n",
    "    for j in range(0,n+1):\n",
    "        # set the element to the sum of the two elements above it\n",
    "        stock_array[j] = S0 * (u**j) * (d**(n-j))\n",
    "        option_array[j] = payoff_func(stock_array[j], K, sigma, n, T)\n",
    "\n",
    "    # loop through the lattice backwards\n",
    "    for i in range(n, 0, -1):\n",
    "        # check if the current time is a dividend time\n",
    "        if (i in div):\n",
    "            # interpolate the option array to the stock array for the dividend\n",
    "            option_array = np.interp(stock_array - div_payoff_func(stock_array, D0, p), stock_array, option_array).copy()\n",
    "            # display(pd.DataFrame({'Div Stock array ' + str(i) : stock_array - div_payoff_func(stock_array, D0, p), 'Div Option array ' + str(i) : option_array}))\n",
    "\n",
    "        # get lagged stock and option array for calculation\n",
    "        stock_array_r = np.roll(stock_array, -1)\n",
    "        option_array_r = np.roll(option_array, -1)\n",
    "        # set the last value to nan\n",
    "        option_array_r[-1] = np.nan\n",
    "        stock_array_r[-1] = np.nan\n",
    "        # calculate the new stock and option array\n",
    "        new_stock_array = np.exp(-r * T / n) * q * (stock_array_r + stock_array)\n",
    "        new_option_array = np.exp(-r * T / n) * q * (option_array_r + option_array)\n",
    "        # set the arrays to the new arrays\n",
    "        stock_array = new_stock_array.copy()\n",
    "        option_array = new_option_array.copy()\n",
    "        # reset the new row\n",
    "        new_stock_array = np.zeros((n+1))\n",
    "        new_option_array = np.zeros((n+1))\n",
    "\n",
    "    # return the array\n",
    "    return option_array"
   ]
  }
 ],
 "metadata": {
  "language_info": {
   "name": "python"
  },
  "orig_nbformat": 4
 },
 "nbformat": 4,
 "nbformat_minor": 2
}
